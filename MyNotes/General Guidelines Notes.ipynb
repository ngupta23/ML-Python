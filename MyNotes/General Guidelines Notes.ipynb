{
 "cells": [
  {
   "cell_type": "markdown",
   "metadata": {},
   "source": [
    "## Check Missing Data\n",
    "\n",
    "* Check df.info() for number of missing entries ad type of entries \n",
    "* Check df.describe() to find key statistics about columns\n",
    "* Draw a heat map for missing Data - get a sense of whether the missing data can be imputed or needs to be thrown away\n",
    "\n",
    "## Exploratory Data Analysis\n",
    "### Draw quick relations\n",
    "\n",
    "* Plot histograms of **target variable** to see spread of data for **corelation problems**\n",
    "* Plot countplot (**with hue**) of the **target variable** for **classification problems** to identify trends\n",
    "* Draw a quick corelation plot to see any patters for the **target variable**. For this make sure any **catogorical variables have been transformed** (for example one hot encoding or get dummies) so they are used appropriately.\n",
    "* Draw pairplot of data if it is not large.\n",
    "* Draw a **corelation matrix** to get idea of which fields are potentially important\n",
    "\n",
    "## Cleaning Data\n",
    "\n",
    "* Impute the date is not much is missing\n",
    "* Use Averages based on other hues for example imputing age based on passenger class age average rather than just age average\n",
    "* Use df.apply methods for this. Very powerful.\n",
    "* Draw heat map again to check that there is no more missing data\n",
    "\n"
   ]
  },
  {
   "cell_type": "code",
   "execution_count": null,
   "metadata": {},
   "outputs": [],
   "source": []
  }
 ],
 "metadata": {
  "kernelspec": {
   "display_name": "Python 3",
   "language": "python",
   "name": "python3"
  },
  "language_info": {
   "codemirror_mode": {
    "name": "ipython",
    "version": 3
   },
   "file_extension": ".py",
   "mimetype": "text/x-python",
   "name": "python",
   "nbconvert_exporter": "python",
   "pygments_lexer": "ipython3",
   "version": "3.6.4"
  }
 },
 "nbformat": 4,
 "nbformat_minor": 2
}
